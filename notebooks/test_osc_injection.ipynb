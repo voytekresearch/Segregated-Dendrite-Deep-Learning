{
 "cells": [
  {
   "cell_type": "markdown",
   "metadata": {},
   "source": [
    "# Oscillation injection\n",
    "\n",
    "A testing notebook."
   ]
  },
  {
   "cell_type": "code",
   "execution_count": null,
   "metadata": {},
   "outputs": [],
   "source": [
    "import os\n",
    "import numpy as np\n",
    "import pandas as pd\n",
    "\n",
    "from scipy import signal\n",
    "\n",
    "from IPython.display import Image\n",
    "import matplotlib\n",
    "import matplotlib.pyplot as plt\n",
    "\n",
    "%matplotlib inline\n",
    "%config InlineBackend.figure_format = 'retina'\n",
    "\n",
    "import seaborn as sns\n",
    "sns.set_style('ticks')\n",
    "\n",
    "matplotlib.rcParams.update({'font.size': 16})\n",
    "matplotlib.rc('axes', titlesize=16)"
   ]
  },
  {
   "cell_type": "code",
   "execution_count": null,
   "metadata": {},
   "outputs": [],
   "source": [
    "data_path = \"/Users/qualia/Code/Segregated-Dendrite-Deep-Learning/Simulations/\""
   ]
  },
  {
   "cell_type": "markdown",
   "metadata": {},
   "source": [
    "## Load data"
   ]
  },
  {
   "cell_type": "code",
   "execution_count": null,
   "metadata": {},
   "outputs": [],
   "source": [
    "comp = np.loadtxt(os.path.join(data_path, \"./Comp Simulation/C_hist_0.csv\"))\n",
    "comp_idx = comp[0, :]\n",
    "\n",
    "osc = np.loadtxt(os.path.join(data_path, \"./Osc Simulation/C_hist_0.csv\"))\n",
    "osc_idx = osc[0, :]\n",
    "\n",
    "osc_only = np.loadtxt(os.path.join(data_path, \"./Osc Simulation/O_hist_0.csv\"))\n",
    "osc_only_idx = osc_only[0, :]"
   ]
  },
  {
   "cell_type": "code",
   "execution_count": null,
   "metadata": {},
   "outputs": [],
   "source": [
    "osc_idx"
   ]
  },
  {
   "cell_type": "code",
   "execution_count": null,
   "metadata": {},
   "outputs": [],
   "source": [
    "print(comp.shape[0], osc.shape[0], osc_only.shape[0])"
   ]
  },
  {
   "cell_type": "code",
   "execution_count": null,
   "metadata": {},
   "outputs": [],
   "source": [
    "phase_times_osc[:10]"
   ]
  },
  {
   "cell_type": "markdown",
   "metadata": {},
   "source": [
    "## Plot example trials"
   ]
  },
  {
   "cell_type": "code",
   "execution_count": null,
   "metadata": {},
   "outputs": [],
   "source": [
    "i = 1 # cell number\n",
    "trial = 0 # Train image number\n",
    "times = np.linspace(0, .125, 125)\n",
    "\n",
    "# Get trial timecourse\n",
    "comp_t = comp[trial*125:(trial+1)*125, i]\n",
    "osc_t = osc[trial*125:(trial+1)*125, i]\n",
    "oo_t = osc_only[trial*125:(trial+1)*125, i]\n",
    "\n",
    "# And its power spectra\n",
    "freqs_comp, P_comp = signal.periodogram(comp_t, fs=1000)\n",
    "freqs_osc, P_osc = signal.periodogram(osc_t, fs=1000)\n",
    "freqs_oo, P_oo = signal.periodogram(oo_t, fs=1000)\n",
    "\n",
    "\n",
    "# ----------------------------------------------------------------------------\n",
    "fig = plt.figure(figsize=(6, 8))\n",
    "grid = plt.GridSpec(3, 1, wspace=0.3, hspace=0.8)\n",
    "\n",
    "# Time\n",
    "plt.subplot(grid[0, 0])\n",
    "plt.scatter(times, comp_t, color=\"grey\", alpha=.9, s=14, label=\"Comp\")\n",
    "plt.scatter(times, osc_t, color=\"black\", alpha=.9, s=14, label=\"Comp+Osc\")\n",
    "plt.scatter(times, oo_t, color=\"purple\", alpha=.9, s=14, label=\"Osc only\")\n",
    "plt.plot(times, np.repeat(0, len(times)), alpha=1, color=\"black\")\n",
    "plt.ylabel(\"Vm\")\n",
    "plt.xlabel(\"time (s)\")\n",
    "plt.legend(loc='center left', bbox_to_anchor=(1, 0.5))\n",
    "\n",
    "# Time\n",
    "plt.subplot(grid[1, 0])\n",
    "plt.scatter(times, osc_t-comp_t, color=\"black\", alpha=.9, s=14, label=\"Osc-Comp\")\n",
    "plt.plot(times, np.repeat(0, len(times)), alpha=1, color=\"black\")\n",
    "plt.ylabel(\"Vm\")\n",
    "plt.xlabel(\"time (s)\")\n",
    "plt.legend(loc='center left', bbox_to_anchor=(1, 0.5))\n",
    "\n",
    "# Freq\n",
    "plt.subplot(grid[2, 0])\n",
    "plt.plot(freqs_comp, P_comp, color=\"grey\", linestyle='-', marker='o', alpha=.9, label=\"Comp\")\n",
    "plt.plot(freqs_osc, P_osc, color=\"black\", linestyle='-', marker='o', alpha=.9, label=\"Comp+Osc\")\n",
    "plt.plot(freqs_oo, P_oo, color=\"purple\", linestyle='-', marker='o', alpha=.9, label=\"Osc only\")\n",
    "plt.ylabel(\"Power\")\n",
    "plt.xlabel(\"Freq. (Hz)\")\n",
    "# plt.xlim(0, 100)\n",
    "plt.legend(loc='center left', bbox_to_anchor=(1, 0.5))\n",
    "_ = sns.despine()"
   ]
  },
  {
   "cell_type": "code",
   "execution_count": null,
   "metadata": {},
   "outputs": [],
   "source": []
  },
  {
   "cell_type": "code",
   "execution_count": null,
   "metadata": {},
   "outputs": [],
   "source": []
  }
 ],
 "metadata": {
  "kernelspec": {
   "display_name": "Python 3",
   "language": "python",
   "name": "python3"
  },
  "language_info": {
   "codemirror_mode": {
    "name": "ipython",
    "version": 3
   },
   "file_extension": ".py",
   "mimetype": "text/x-python",
   "name": "python",
   "nbconvert_exporter": "python",
   "pygments_lexer": "ipython3",
   "version": "3.6.7"
  }
 },
 "nbformat": 4,
 "nbformat_minor": 2
}
